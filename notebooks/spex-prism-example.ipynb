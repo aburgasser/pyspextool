{
 "cells": [
  {
   "cell_type": "markdown",
   "id": "6b913b35",
   "metadata": {},
   "source": [
    "# SPEX prism point-source reduction example\n",
    "\n",
    "Last updated 24 May 2023\n",
    "\n",
    "This notebook demonstrates the reduction of a SPEX prism point-source data using the test data provided with the code in test_data/spex-prism\n",
    "\n",
    "## Steps:\n",
    "* setup instrument parameters (WORKING)\n",
    "* reduce calibration data (WORKING)\n",
    "* extract science point source (WORKING)\n",
    "* extract telluric standard point source (WORKING)\n",
    "* combine individual science spectra into one spectrum (WORKING)\n",
    "* combine individual telluric spectra into one spectrum (WORKING)\n",
    "* telluric calibration science spectrum (TBD)\n"
   ]
  },
  {
   "cell_type": "code",
   "execution_count": null,
   "id": "d66de1aa",
   "metadata": {},
   "outputs": [],
   "source": [
    "# import package and check\n",
    "import pyspextool as ps\n",
    "import os\n",
    "import numpy as np\n",
    "import matplotlib.pyplot as pl\n",
    "\n",
    "help(ps)"
   ]
  },
  {
   "cell_type": "markdown",
   "id": "78d5ace5",
   "metadata": {},
   "source": [
    "## Setup"
   ]
  },
  {
   "cell_type": "code",
   "execution_count": null,
   "id": "d36698c6",
   "metadata": {},
   "outputs": [],
   "source": [
    "# what instrument and mode we are using\n",
    "instrument = 'spex'\n",
    "mode = 'prism'\n",
    "\n",
    "# point to test data folder for USPEX prism data\n",
    "# NOTE: this should be moved internally\n",
    "pfolder = os.path.dirname(os.path.abspath(ps.__file__))+'/../../'\n",
    "tdfolder = pfolder+'/test_data/{}-{}/'.format(instrument,mode)\n",
    "#tdfolder = '/Users/adam/python_codes/pyspextool/test_data/{}-{}/'.format(instrument,mode)\n",
    "\n",
    "# set output pathways\n",
    "redux_folder = '/Users/adam/projects/spex_archive/test_spex-prism/'\n",
    "raw_path = tdfolder\n",
    "cal_path = redux_folder+'/cals/'\n",
    "proc_path = redux_folder+'/proc/'\n",
    "qa_path = redux_folder+'/cals/'\n",
    "\n",
    "# file prefixes\n",
    "src_prefix = 'spc'\n",
    "flat_prefix = 'flat'\n",
    "arc_prefix = 'arc'\n",
    "\n",
    "# file numbers\n",
    "flat_files = '15-19'\n",
    "arc_files = '20'\n",
    "src_files = '1-8'\n",
    "tell_files = '9-14'\n",
    "\n",
    "# extraction details\n",
    "orders = '1' # orders to extract\n",
    "source_type = 'ps' # source type: 'ps' (default) or 'xs'\n",
    "reduction_mode = 'A-B' # reduction mode: 'A-B' (default), 'A', 'A-Sky/Dark'\n",
    "npos = 2\n",
    "aperture_positions = [3.7, 11.2] # preset aperture positions\n",
    "aperture_method = 'auto' # method to identify aperture: 'fixed', 'guess', or 'auto' (default)\n",
    "ps_aperture = 1.5 # preset aperture width for point source in multiples of PSF radius\n",
    "psf_radius = 1.5 # point source PSF radius\n",
    "ps_bg_parameters = [2.5,4] # point source background parameters; radius to start, then width\n",
    "combine_prefix = 'combspec'\n",
    "scale_range = '1.0-2.3'\n",
    "\n",
    "# set up instrument\n",
    "ps.pyspextool_setup(instrument,raw_path=raw_path, cal_path=cal_path, proc_path=proc_path, \n",
    "                    qa_path=qa_path,verbose=True)\n"
   ]
  },
  {
   "cell_type": "markdown",
   "id": "5d1a7c40",
   "metadata": {},
   "source": [
    "## Calibrations"
   ]
  },
  {
   "cell_type": "code",
   "execution_count": null,
   "id": "16246c62",
   "metadata": {},
   "outputs": [],
   "source": [
    "#\n",
    "# FAILED\n",
    "#\n",
    "# conduct calibrations\n",
    "ps.extract.make_flat([flat_prefix,flat_files],'flat{}'.format(flat_files),qa_file=True,verbose=True)\n",
    "\n",
    "# note: use stored solution unless slit width = 0.3\n",
    "ps.extract.make_wavecal([arc_prefix,arc_files],'flat{}.fits'.format(flat_files),'wavecal{}'.format(arc_files),\\\n",
    "    qa_file=True,qa_plot=True,use_stored_solution=True,verbose=True)\n"
   ]
  },
  {
   "cell_type": "markdown",
   "id": "2d3f36b4",
   "metadata": {},
   "source": [
    "## Extract science files"
   ]
  },
  {
   "cell_type": "code",
   "execution_count": null,
   "id": "012ed7f0",
   "metadata": {},
   "outputs": [],
   "source": [
    "# extract first two images of science target\n",
    "\n",
    "# load in images and apply flat and wavecal calbrations\n",
    "ps.extract.load_image([src_prefix,ps.io.files.extract_filestring(src_files,method='index')[:2]],\\\n",
    "                      'flat{}.fits'.format(flat_files), 'wavecal{}.fits'.format(arc_files),\\\n",
    "                      flat_field=True, linearity_correction=True,reduction_mode=reduction_mode, \\\n",
    "                      qa_plot=False, qa_file=True, verbose=True)\n",
    "\n",
    "# set extraction method to point source\n",
    "ps.extract.set_extraction_type(source_type)\n",
    "\n",
    "# make spatial profiles\n",
    "ps.extract.make_spatial_profiles(qa_plot=False, qa_file=False, verbose=True)\n",
    "\n",
    "# identify aperture positions (set above)\n",
    "if aperture_method=='auto': # this works for method = 'auto'\n",
    "    ps.extract.locate_aperture_positions(2, method=aperture_method, qa_plot=False, qa_file=False, verbose=True)\n",
    "else:\n",
    "    ps.extract.locate_aperture_positions(aperture_positions, method=aperture_method, qa_plot=False, qa_file=False, verbose=True)\n",
    "\n",
    "# select orders to extract (set above)\n",
    "ps.extract.select_orders(include=orders, qa_plot=False, qa_file=False, verbose=True)\n",
    "\n",
    "# trace apertures\n",
    "ps.extract.trace_apertures(qa_plot=False, qa_file=True, verbose=True)\n",
    "\n",
    "# define the aperture - psf, width, background\n",
    "ps.extract.define_aperture_parameters(ps_aperture, psf_radius=psf_radius,bg_radius=ps_bg_parameters[0],\\\n",
    "                        bg_width=ps_bg_parameters[1], qa_plot=False, qa_file=True)\n",
    "\n",
    "# extract away\n",
    "ps.extract.extract_apertures(verbose=True)\n",
    "\n",
    "# conduct extraction of all remaining files\n",
    "# NOTE: this is redundant for the first two files,\n",
    "# and also unnecessary here because we only have 2 files!\n",
    "ps.extract.do_all_steps([src_prefix,src_files])\n"
   ]
  },
  {
   "cell_type": "markdown",
   "id": "87f83b63",
   "metadata": {},
   "source": [
    "## Extract telluric/flux cal spectrum"
   ]
  },
  {
   "cell_type": "code",
   "execution_count": null,
   "id": "e0d5fd2c",
   "metadata": {},
   "outputs": [],
   "source": [
    "# now do telluric source\n",
    "\n",
    "# load in images and apply flat and wavecal calbrations\n",
    "ps.extract.load_image([src_prefix,ps.io.files.extract_filestring(tell_files,method='index')[:2]],\\\n",
    "                      'flat{}.fits'.format(flat_files), 'wavecal{}.fits'.format(arc_files),\\\n",
    "                      flat_field=True, linearity_correction=True,reduction_mode=reduction_mode, \\\n",
    "                      qa_plot=False, qa_file=True, verbose=True)\n",
    "\n",
    "# set extraction method to point source\n",
    "ps.extract.set_extraction_type(source_type)\n",
    "\n",
    "# make spatial profiles\n",
    "ps.extract.make_spatial_profiles(qa_plot=False, qa_file=False, verbose=True)\n",
    "\n",
    "# identify aperture positions (set above)\n",
    "if aperture_method=='auto': # this works for method = 'auto'\n",
    "    ps.extract.locate_aperture_positions(2, method=aperture_method, qa_plot=False, qa_file=False, verbose=True)\n",
    "else:\n",
    "    ps.extract.locate_aperture_positions(aperture_positions, method=aperture_method, qa_plot=False, qa_file=False, verbose=True)\n",
    "\n",
    "# select orders to extract (set above)\n",
    "ps.extract.select_orders(include=orders, qa_plot=False, qa_file=False, verbose=True)\n",
    "\n",
    "# trace apertures\n",
    "ps.extract.trace_apertures(qa_plot=False, qa_file=True, verbose=True)\n",
    "\n",
    "# define the aperture - psf, width, background\n",
    "ps.extract.define_aperture_parameters(ps_aperture, psf_radius=psf_radius,bg_radius=ps_bg_parameters[0],\\\n",
    "                        bg_width=ps_bg_parameters[1], qa_plot=False, qa_file=True)\n",
    "\n",
    "# extract away\n",
    "ps.extract.extract_apertures(verbose=True)\n",
    "\n",
    "# now do all files\n",
    "ps.extract.do_all_steps([src_prefix,tell_files])\n"
   ]
  },
  {
   "cell_type": "markdown",
   "id": "3eba1a4c",
   "metadata": {},
   "source": [
    "## Combine science and telluric spectra into a single spectrum each"
   ]
  },
  {
   "cell_type": "code",
   "execution_count": null,
   "id": "3d756f72",
   "metadata": {},
   "outputs": [],
   "source": [
    "# source\n",
    "ps.combine.combine_spectra(['spectra',src_files],'{}{}'.format(combine_prefix,src_files),\\\n",
    "      scale_spectra=True,scale_range=scale_range,correct_spectral_shape=False,qa_plot=True,qa_file=True,verbose=True)\n",
    "\n",
    "# telluric star\n",
    "ps.combine.combine_spectra(['spectra',tell_files],'{}{}'.format(combine_prefix,tell_files),\\\n",
    "      scale_spectra=True,scale_range=scale_range,correct_spectral_shape=True,qa_plot=True,qa_file=True,verbose=True)\n"
   ]
  },
  {
   "cell_type": "markdown",
   "id": "9c29072d",
   "metadata": {},
   "source": [
    "## Flux calibrate science spectrum with telluric spectrum\n",
    "\n",
    "[This has not been completed yet]"
   ]
  },
  {
   "cell_type": "code",
   "execution_count": null,
   "id": "8a31a133",
   "metadata": {},
   "outputs": [],
   "source": []
  },
  {
   "cell_type": "markdown",
   "id": "22877af9",
   "metadata": {},
   "source": [
    "# Checking your outputs\n",
    "\n",
    "You should find several output files in your cals and proc folders that allow you to visualize the calibrations and extractions. In addition, you can read in the spectrum and visualize it with plot_spectra.py\n"
   ]
  },
  {
   "cell_type": "code",
   "execution_count": null,
   "id": "4c8d077c",
   "metadata": {},
   "outputs": [],
   "source": [
    "# plot with default parameters\n",
    "from pyspextool.plot.plot_spectra import plot_spectra\n",
    "\n",
    "file = 'combspec1-8.fits'\n",
    "ax = plot_spectra(proc_path+file,colors='k',y=\"flux and uncertainty\",order_numbers=False)"
   ]
  },
  {
   "cell_type": "code",
   "execution_count": null,
   "id": "af2c9040",
   "metadata": {},
   "outputs": [],
   "source": [
    "# plot with some modifications\n",
    "# NOTE: not sure what to do with ax object\n",
    "file = 'combspec1-8.fits'\n",
    "ax = plot_spectra(proc_path+file,colors='k',y=\"flux and uncertainty\",order_numbers=False,display=False)\n",
    "ax.set_xlabel('Wavelength (micron)', fontsize=15)\n",
    "ax.set_ylabel('F$_{\\lambda}$', fontsize=15)\n",
    "ax.legend(['Flux','Uncertainty'],fontsize=14)\n"
   ]
  },
  {
   "cell_type": "code",
   "execution_count": null,
   "id": "27b8312c",
   "metadata": {},
   "outputs": [],
   "source": []
  }
 ],
 "metadata": {
  "kernelspec": {
   "display_name": "Python 3 (ipykernel)",
   "language": "python",
   "name": "python3"
  },
  "language_info": {
   "codemirror_mode": {
    "name": "ipython",
    "version": 3
   },
   "file_extension": ".py",
   "mimetype": "text/x-python",
   "name": "python",
   "nbconvert_exporter": "python",
   "pygments_lexer": "ipython3",
   "version": "3.9.7"
  }
 },
 "nbformat": 4,
 "nbformat_minor": 5
}
